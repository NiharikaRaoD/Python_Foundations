{
 "cells": [
  {
   "cell_type": "markdown",
   "id": "b211f33a",
   "metadata": {},
   "source": [
    "# Project Euler Prob 6"
   ]
  },
  {
   "cell_type": "code",
   "execution_count": 27,
   "id": "d08e5b51",
   "metadata": {},
   "outputs": [],
   "source": [
    "def sum_square_difference(n:int):\n",
    "    sum_of_squares = 0\n",
    "    square_of_sum = 0\n",
    "    index = 1\n",
    "    while index <= n:\n",
    "        sum_of_squares += (index)**2\n",
    "        index += 1\n",
    "    square_of_sum = ((n*(n+1))//2)**2\n",
    "    result = square_of_sum - sum_of_squares\n",
    "    print(result)\n",
    "\n"
   ]
  },
  {
   "cell_type": "code",
   "execution_count": 35,
   "id": "2fb130bb",
   "metadata": {},
   "outputs": [
    {
     "name": "stdout",
     "output_type": "stream",
     "text": [
      "170\n"
     ]
    }
   ],
   "source": [
    "sum_square_difference(5)"
   ]
  },
  {
   "cell_type": "markdown",
   "id": "3aba2bad",
   "metadata": {},
   "source": [
    "# Project Euler 7"
   ]
  },
  {
   "cell_type": "code",
   "execution_count": 32,
   "id": "f594ad47",
   "metadata": {},
   "outputs": [],
   "source": [
    "\n",
    "## using WHILE loop\n",
    "def is_prime(num:int):\n",
    "    if num < 2:\n",
    "        return False\n",
    "    result = True\n",
    "    index = 2\n",
    "    while index <= num//2:\n",
    "        if num%index == 0:\n",
    "            result = False\n",
    "            break\n",
    "        index += 1\n",
    "    return result\n"
   ]
  },
  {
   "cell_type": "code",
   "execution_count": null,
   "id": "877c788b",
   "metadata": {},
   "outputs": [
    {
     "data": {
      "text/plain": [
       "True"
      ]
     },
     "execution_count": 34,
     "metadata": {},
     "output_type": "execute_result"
    }
   ],
   "source": [
    "## using FOR loop\n",
    "def is_prime(num:int):\n",
    "    if num < 2:\n",
    "        return False\n",
    "    result = True\n",
    "    index = 2\n",
    "    for index in range(2, num//2+1):\n",
    "        if num % index == 0:\n",
    "            return False\n",
    "    return True\n",
    "\n",
    "is_prime(3)"
   ]
  },
  {
   "cell_type": "code",
   "execution_count": 20,
   "id": "394d0166",
   "metadata": {},
   "outputs": [
    {
     "data": {
      "text/plain": [
       "True"
      ]
     },
     "execution_count": 20,
     "metadata": {},
     "output_type": "execute_result"
    }
   ],
   "source": [
    "is_prime(3)"
   ]
  },
  {
   "cell_type": "code",
   "execution_count": 14,
   "id": "a61553af",
   "metadata": {},
   "outputs": [],
   "source": [
    "def nth_prime(n:int):\n",
    "    index = 2\n",
    "    result = 0\n",
    "    count = 0\n",
    "    while True:\n",
    "        if is_prime(index):\n",
    "            count += 1\n",
    "            if count == n:\n",
    "                result = index\n",
    "                break\n",
    "        index += 1\n",
    "    return result"
   ]
  },
  {
   "cell_type": "code",
   "execution_count": 17,
   "id": "5751e1d7",
   "metadata": {},
   "outputs": [
    {
     "data": {
      "text/plain": [
       "104743"
      ]
     },
     "execution_count": 17,
     "metadata": {},
     "output_type": "execute_result"
    }
   ],
   "source": [
    "nth_prime(10001)"
   ]
  }
 ],
 "metadata": {
  "kernelspec": {
   "display_name": "Python 3",
   "language": "python",
   "name": "python3"
  },
  "language_info": {
   "codemirror_mode": {
    "name": "ipython",
    "version": 3
   },
   "file_extension": ".py",
   "mimetype": "text/x-python",
   "name": "python",
   "nbconvert_exporter": "python",
   "pygments_lexer": "ipython3",
   "version": "3.13.7"
  }
 },
 "nbformat": 4,
 "nbformat_minor": 5
}
