{
 "cells": [
  {
   "cell_type": "markdown",
   "id": "bd565a72",
   "metadata": {},
   "source": [
    "Arithmetic Operators"
   ]
  },
  {
   "cell_type": "code",
   "execution_count": null,
   "id": "3abfb1d5",
   "metadata": {},
   "outputs": [],
   "source": [
    "def product(num1:int, num2:int):\n",
    "    sum = num1 + num2\n",
    "    print(sum)\n",
    "    difference = num1 - num2\n",
    "    print(difference)\n",
    "    result = num1 * num2\n",
    "    print(result) \n"
   ]
  },
  {
   "cell_type": "markdown",
   "id": "61b81e05",
   "metadata": {},
   "source": [
    "Division"
   ]
  },
  {
   "cell_type": "code",
   "execution_count": null,
   "id": "b226b416",
   "metadata": {},
   "outputs": [
    {
     "name": "stdout",
     "output_type": "stream",
     "text": [
      "0\n",
      "0.6\n"
     ]
    }
   ],
   "source": [
    "def division(num1:int, num2:int):\n",
    "    int_result = num1//num2\n",
    "    print(int_result)\n",
    "\n",
    "    float_result = num1/num2\n",
    "    print(float_result)\n"
   ]
  },
  {
   "cell_type": "markdown",
   "id": "33636fed",
   "metadata": {},
   "source": [
    "Loops"
   ]
  },
  {
   "cell_type": "code",
   "execution_count": 4,
   "id": "b74ca507",
   "metadata": {},
   "outputs": [],
   "source": [
    "def square(num:int):\n",
    "    index = 0\n",
    "    result = 1\n",
    "    while index < num:\n",
    "        result = index**2\n",
    "        index+= 1\n",
    "        print(result)\n",
    "\n"
   ]
  },
  {
   "cell_type": "markdown",
   "id": "f2a2b079",
   "metadata": {},
   "source": [
    "Leap Year"
   ]
  },
  {
   "cell_type": "code",
   "execution_count": 23,
   "id": "73de2bcd",
   "metadata": {},
   "outputs": [
    {
     "data": {
      "text/plain": [
       "True"
      ]
     },
     "execution_count": 23,
     "metadata": {},
     "output_type": "execute_result"
    }
   ],
   "source": [
    "def is_leap(year):\n",
    "    leap = False\n",
    "\n",
    "    if (year % 4 == 0 and year % 100 != 0) or (year % 400 == 0):\n",
    "        leap = True\n",
    "    \n",
    "    return leap\n",
    "\n",
    "is_leap(2028)\n"
   ]
  },
  {
   "cell_type": "markdown",
   "id": "d4d8c7c2",
   "metadata": {},
   "source": [
    "Integers as String"
   ]
  },
  {
   "cell_type": "code",
   "execution_count": null,
   "id": "f4627c93",
   "metadata": {},
   "outputs": [
    {
     "name": "stdout",
     "output_type": "stream",
     "text": [
      "12345\n"
     ]
    }
   ],
   "source": [
    "def int_str(num:int):\n",
    "    for index in range (1, num+1):\n",
    "        print(index, end = '')\n",
    "    print()\n"
   ]
  },
  {
   "cell_type": "code",
   "execution_count": null,
   "id": "ed4d4d95",
   "metadata": {},
   "outputs": [],
   "source": []
  }
 ],
 "metadata": {
  "kernelspec": {
   "display_name": "Python 3",
   "language": "python",
   "name": "python3"
  },
  "language_info": {
   "codemirror_mode": {
    "name": "ipython",
    "version": 3
   },
   "file_extension": ".py",
   "mimetype": "text/x-python",
   "name": "python",
   "nbconvert_exporter": "python",
   "pygments_lexer": "ipython3",
   "version": "3.13.7"
  }
 },
 "nbformat": 4,
 "nbformat_minor": 5
}
