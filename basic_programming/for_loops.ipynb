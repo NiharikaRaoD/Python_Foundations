{
 "cells": [
  {
   "cell_type": "markdown",
   "id": "5c8155de",
   "metadata": {},
   "source": [
    "PE_1"
   ]
  },
  {
   "cell_type": "code",
   "execution_count": 2,
   "id": "3b1eb454",
   "metadata": {},
   "outputs": [
    {
     "name": "stdout",
     "output_type": "stream",
     "text": [
      "23\n"
     ]
    }
   ],
   "source": [
    "def sum_of_multiples(num:int):\n",
    "    result = 0\n",
    "    index = 1\n",
    "\n",
    "    for index in range (1,num):\n",
    "        if (index % 3 == 0 or index % 5 == 0):\n",
    "            result += index\n",
    "    \n",
    "    print(result)\n",
    "\n",
    "sum_of_multiples(10)\n"
   ]
  },
  {
   "cell_type": "markdown",
   "id": "34d68f7e",
   "metadata": {},
   "source": [
    "PE_2"
   ]
  },
  {
   "cell_type": "code",
   "execution_count": 4,
   "id": "988c4e7c",
   "metadata": {},
   "outputs": [
    {
     "name": "stdout",
     "output_type": "stream",
     "text": [
      "1,2,3,5,8,13,21,34,55,89,"
     ]
    }
   ],
   "source": [
    "def fibonacci(num:int):\n",
    "    first = 1\n",
    "    second = 2\n",
    "    third = first + second\n",
    "\n",
    "    for index in range(0, num):\n",
    "        print(first, end = ',')\n",
    "        first, second = second, first + second\n",
    "\n",
    "fibonacci(10)\n"
   ]
  },
  {
   "cell_type": "code",
   "execution_count": 5,
   "id": "1780ed63",
   "metadata": {},
   "outputs": [
    {
     "name": "stdout",
     "output_type": "stream",
     "text": [
      "1,2,3,5,8,13,21,34,55,89,"
     ]
    },
    {
     "ename": "TypeError",
     "evalue": "unsupported operand type(s) for %: 'NoneType' and 'int'",
     "output_type": "error",
     "traceback": [
      "\u001b[31m---------------------------------------------------------------------------\u001b[39m",
      "\u001b[31mTypeError\u001b[39m                                 Traceback (most recent call last)",
      "\u001b[36mCell\u001b[39m\u001b[36m \u001b[39m\u001b[32mIn[5]\u001b[39m\u001b[32m, line 11\u001b[39m\n\u001b[32m      7\u001b[39m             sum_of_even_terms += series\n\u001b[32m      9\u001b[39m     \u001b[38;5;28mprint\u001b[39m(sum_of_even_terms)\n\u001b[32m---> \u001b[39m\u001b[32m11\u001b[39m \u001b[43meven_sum\u001b[49m\u001b[43m(\u001b[49m\u001b[32;43m10\u001b[39;49m\u001b[43m)\u001b[49m\n",
      "\u001b[36mCell\u001b[39m\u001b[36m \u001b[39m\u001b[32mIn[5]\u001b[39m\u001b[32m, line 6\u001b[39m, in \u001b[36meven_sum\u001b[39m\u001b[34m(limit)\u001b[39m\n\u001b[32m      3\u001b[39m sum_of_even_terms = \u001b[32m0\u001b[39m\n\u001b[32m      5\u001b[39m \u001b[38;5;28;01mfor\u001b[39;00m index \u001b[38;5;129;01min\u001b[39;00m \u001b[38;5;28mrange\u001b[39m(\u001b[32m0\u001b[39m, limit):\n\u001b[32m----> \u001b[39m\u001b[32m6\u001b[39m     \u001b[38;5;28;01mif\u001b[39;00m \u001b[43mseries\u001b[49m\u001b[43m \u001b[49m\u001b[43m%\u001b[49m\u001b[43m \u001b[49m\u001b[32;43m2\u001b[39;49m == \u001b[32m0\u001b[39m:\n\u001b[32m      7\u001b[39m         sum_of_even_terms += series\n\u001b[32m      9\u001b[39m \u001b[38;5;28mprint\u001b[39m(sum_of_even_terms)\n",
      "\u001b[31mTypeError\u001b[39m: unsupported operand type(s) for %: 'NoneType' and 'int'"
     ]
    }
   ],
   "source": [
    "def even_sum(limit:int):\n",
    "    series = fibonacci(limit)\n",
    "    sum_of_even_terms = 0\n",
    "\n",
    "    for index in range(0, limit):\n",
    "        if series % 2 == 0:\n",
    "            sum_of_even_terms += series\n",
    "\n",
    "    print(sum_of_even_terms)\n",
    "\n",
    "even_sum(10)"
   ]
  },
  {
   "cell_type": "markdown",
   "id": "6e2a4839",
   "metadata": {},
   "source": [
    "PE_3"
   ]
  },
  {
   "cell_type": "code",
   "execution_count": 7,
   "id": "35055777",
   "metadata": {},
   "outputs": [
    {
     "name": "stdout",
     "output_type": "stream",
     "text": [
      "7\n"
     ]
    }
   ],
   "source": [
    "def is_prime(num:int):\n",
    "    if num < 2:\n",
    "        return False\n",
    "    result = True\n",
    "    index = 2\n",
    "    for index in range(2, num//2+1):\n",
    "        if num % index == 0:\n",
    "            return False\n",
    "    return True\n",
    "\n",
    "def prime_factors(num:int):\n",
    "    prime_factors = []\n",
    "    for index in range (1, num+1):\n",
    "        if num % index == 0:\n",
    "            if is_prime(index):\n",
    "                prime_factors.append(index)\n",
    "    return prime_factors\n",
    "\n",
    "def highest_prime_factor(number:int):\n",
    "    max_prime = 1\n",
    "    factors_list = prime_factors(number)\n",
    "    for index in factors_list:\n",
    "        max_prime = index\n",
    "    return max_prime\n",
    "\n",
    "number = 21\n",
    "print(highest_prime_factor(number))"
   ]
  },
  {
   "cell_type": "code",
   "execution_count": 20,
   "id": "56f0edb3",
   "metadata": {},
   "outputs": [],
   "source": [
    "def factors(num:int):\n",
    "    factors = []\n",
    "    for index in range (1, num+1):\n",
    "        if num % index == 0:\n",
    "            factors.append(index)\n",
    "    print(factors)\n",
    "\n",
    "def highest_prime_factor(number:int):\n",
    "    max_prime = 1\n",
    "    factors_list = factors(number)\n",
    "    for index in factors_list:\n",
    "        if is_prime(index):\n",
    "            max_prime = index\n",
    "        return max_prime\n",
    "\n",
    "\n",
    "            \n"
   ]
  },
  {
   "cell_type": "code",
   "execution_count": 21,
   "id": "b28192fb",
   "metadata": {},
   "outputs": [
    {
     "name": "stdout",
     "output_type": "stream",
     "text": [
      "[1, 2, 5, 10]\n"
     ]
    },
    {
     "ename": "TypeError",
     "evalue": "'NoneType' object is not iterable",
     "output_type": "error",
     "traceback": [
      "\u001b[31m---------------------------------------------------------------------------\u001b[39m",
      "\u001b[31mTypeError\u001b[39m                                 Traceback (most recent call last)",
      "\u001b[36mCell\u001b[39m\u001b[36m \u001b[39m\u001b[32mIn[21]\u001b[39m\u001b[32m, line 1\u001b[39m\n\u001b[32m----> \u001b[39m\u001b[32m1\u001b[39m \u001b[43mhighest_prime_factor\u001b[49m\u001b[43m(\u001b[49m\u001b[32;43m10\u001b[39;49m\u001b[43m)\u001b[49m\n",
      "\u001b[36mCell\u001b[39m\u001b[36m \u001b[39m\u001b[32mIn[20]\u001b[39m\u001b[32m, line 11\u001b[39m, in \u001b[36mhighest_prime_factor\u001b[39m\u001b[34m(number)\u001b[39m\n\u001b[32m      9\u001b[39m max_prime = \u001b[32m1\u001b[39m\n\u001b[32m     10\u001b[39m factors_list = factors(number)\n\u001b[32m---> \u001b[39m\u001b[32m11\u001b[39m \u001b[43m\u001b[49m\u001b[38;5;28;43;01mfor\u001b[39;49;00m\u001b[43m \u001b[49m\u001b[43mindex\u001b[49m\u001b[43m \u001b[49m\u001b[38;5;129;43;01min\u001b[39;49;00m\u001b[43m \u001b[49m\u001b[43mfactors_list\u001b[49m\u001b[43m:\u001b[49m\n\u001b[32m     12\u001b[39m \u001b[43m    \u001b[49m\u001b[38;5;28;43;01mif\u001b[39;49;00m\u001b[43m \u001b[49m\u001b[43mis_prime\u001b[49m\u001b[43m(\u001b[49m\u001b[43mindex\u001b[49m\u001b[43m)\u001b[49m\u001b[43m:\u001b[49m\n\u001b[32m     13\u001b[39m \u001b[43m        \u001b[49m\u001b[43mmax_prime\u001b[49m\u001b[43m \u001b[49m\u001b[43m=\u001b[49m\u001b[43m \u001b[49m\u001b[43mindex\u001b[49m\n",
      "\u001b[31mTypeError\u001b[39m: 'NoneType' object is not iterable"
     ]
    }
   ],
   "source": [
    "highest_prime_factor(10)"
   ]
  },
  {
   "cell_type": "code",
   "execution_count": null,
   "id": "b466ee8b",
   "metadata": {},
   "outputs": [],
   "source": []
  }
 ],
 "metadata": {
  "kernelspec": {
   "display_name": "Python 3",
   "language": "python",
   "name": "python3"
  },
  "language_info": {
   "codemirror_mode": {
    "name": "ipython",
    "version": 3
   },
   "file_extension": ".py",
   "mimetype": "text/x-python",
   "name": "python",
   "nbconvert_exporter": "python",
   "pygments_lexer": "ipython3",
   "version": "3.13.7"
  }
 },
 "nbformat": 4,
 "nbformat_minor": 5
}
