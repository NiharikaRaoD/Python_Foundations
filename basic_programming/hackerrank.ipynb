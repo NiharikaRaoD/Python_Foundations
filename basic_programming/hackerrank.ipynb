{
 "cells": [
  {
   "cell_type": "markdown",
   "id": "bd565a72",
   "metadata": {},
   "source": [
    "# Arithmetic Operators"
   ]
  },
  {
   "cell_type": "code",
   "execution_count": null,
   "id": "3abfb1d5",
   "metadata": {},
   "outputs": [],
   "source": [
    "def product(num1:int, num2:int):\n",
    "    sum = num1 + num2\n",
    "    print(sum)\n",
    "    difference = num1 - num2\n",
    "    print(difference)\n",
    "    result = num1 * num2\n",
    "    print(result) \n",
    "\n",
    "if __name__ == '__main__':\n",
    "    a = int(input())\n",
    "    b = int(input())\n",
    "    product(a, b)"
   ]
  },
  {
   "cell_type": "code",
   "execution_count": 8,
   "id": "267ed464",
   "metadata": {},
   "outputs": [
    {
     "name": "stdout",
     "output_type": "stream",
     "text": [
      "8\n",
      "-2\n",
      "15\n"
     ]
    }
   ],
   "source": [
    "product(3,5)"
   ]
  },
  {
   "cell_type": "code",
   "execution_count": null,
   "id": "67a20cd0",
   "metadata": {},
   "outputs": [],
   "source": []
  }
 ],
 "metadata": {
  "kernelspec": {
   "display_name": "Python 3",
   "language": "python",
   "name": "python3"
  },
  "language_info": {
   "codemirror_mode": {
    "name": "ipython",
    "version": 3
   },
   "file_extension": ".py",
   "mimetype": "text/x-python",
   "name": "python",
   "nbconvert_exporter": "python",
   "pygments_lexer": "ipython3",
   "version": "3.13.7"
  }
 },
 "nbformat": 4,
 "nbformat_minor": 5
}
