{
 "cells": [
  {
   "cell_type": "markdown",
   "id": "2e232dbe",
   "metadata": {},
   "source": [
    "# Even or Odd"
   ]
  },
  {
   "cell_type": "code",
   "execution_count": 3,
   "id": "8c89744b",
   "metadata": {},
   "outputs": [
    {
     "name": "stdout",
     "output_type": "stream",
     "text": [
      "The given number is even\n",
      "The given number is odd\n"
     ]
    }
   ],
   "source": [
    "def even_odd(num):\n",
    "    number = num\n",
    "    if num%2 == 0:\n",
    "        print (\"The given number is even\")\n",
    "    elif num%2 !=0:\n",
    "        print (\"The given number is odd\")\n",
    "\n",
    "even_odd(10)\n",
    "even_odd(5)\n"
   ]
  },
  {
   "cell_type": "markdown",
   "id": "0590e34b",
   "metadata": {},
   "source": [
    "# Compound Interest"
   ]
  },
  {
   "cell_type": "code",
   "execution_count": 6,
   "id": "65c0154d",
   "metadata": {},
   "outputs": [
    {
     "name": "stdout",
     "output_type": "stream",
     "text": [
      "3781616\n"
     ]
    }
   ],
   "source": [
    "def compound_interest_calculator(p,r,t,n):\n",
    "    principal_amount = p\n",
    "    time = t\n",
    "    rate_of_interest = r = r/100\n",
    "    frequency = n\n",
    "    future_value = v = p*(1+r/n)**(n*t)\n",
    "\n",
    "    compound_interest = v-p\n",
    "    print(int(compound_interest))\n",
    "\n",
    "compound_interest_calculator(2000000,22,5,3)"
   ]
  },
  {
   "cell_type": "markdown",
   "id": "dfde5d04",
   "metadata": {},
   "source": [
    "# Factorial"
   ]
  },
  {
   "cell_type": "code",
   "execution_count": 1,
   "id": "18bc5f4d",
   "metadata": {},
   "outputs": [],
   "source": [
    "def factorial(n:int):\n",
    "    result = 1\n",
    "    index = 1\n",
    "    while index <= n:\n",
    "        result = result * index\n",
    "        index += 1\n",
    "    print(result)"
   ]
  },
  {
   "cell_type": "code",
   "execution_count": 3,
   "id": "1625557d",
   "metadata": {},
   "outputs": [
    {
     "name": "stdout",
     "output_type": "stream",
     "text": [
      "720\n"
     ]
    }
   ],
   "source": [
    "factorial(6)"
   ]
  },
  {
   "cell_type": "markdown",
   "id": "cf6df444",
   "metadata": {},
   "source": []
  }
 ],
 "metadata": {
  "kernelspec": {
   "display_name": "Python 3",
   "language": "python",
   "name": "python3"
  },
  "language_info": {
   "codemirror_mode": {
    "name": "ipython",
    "version": 3
   },
   "file_extension": ".py",
   "mimetype": "text/x-python",
   "name": "python",
   "nbconvert_exporter": "python",
   "pygments_lexer": "ipython3",
   "version": "3.13.7"
  }
 },
 "nbformat": 4,
 "nbformat_minor": 5
}
