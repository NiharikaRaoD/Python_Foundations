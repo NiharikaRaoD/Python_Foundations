{
 "cells": [
  {
   "cell_type": "markdown",
   "id": "5c8155de",
   "metadata": {},
   "source": [
    "PE_1"
   ]
  },
  {
   "cell_type": "code",
   "execution_count": 2,
   "id": "3b1eb454",
   "metadata": {},
   "outputs": [
    {
     "name": "stdout",
     "output_type": "stream",
     "text": [
      "23\n"
     ]
    }
   ],
   "source": [
    "def sum_of_multiples(num:int):\n",
    "    result = 0\n",
    "    index = 1\n",
    "\n",
    "    for index in range (1,num):\n",
    "        if (index % 3 == 0 or index % 5 == 0):\n",
    "            result += index\n",
    "    \n",
    "    print(result)\n",
    "\n",
    "sum_of_multiples(10)\n"
   ]
  },
  {
   "cell_type": "markdown",
   "id": "34d68f7e",
   "metadata": {},
   "source": [
    "PE_2"
   ]
  },
  {
   "cell_type": "code",
   "execution_count": 11,
   "id": "988c4e7c",
   "metadata": {},
   "outputs": [
    {
     "data": {
      "text/plain": [
       "[1, 2, 3, 5, 8]"
      ]
     },
     "execution_count": 11,
     "metadata": {},
     "output_type": "execute_result"
    }
   ],
   "source": [
    "def fibonacci(num:int):\n",
    "    first = 1\n",
    "    second = 2\n",
    "    third = first + second\n",
    "\n",
    "    result = []\n",
    "\n",
    "    for index in range(0, num):\n",
    "        result.append(first)\n",
    "        first, second = second, first + second\n",
    "    \n",
    "    return result\n",
    "\n",
    "fibonacci(5)\n"
   ]
  },
  {
   "cell_type": "code",
   "execution_count": 12,
   "id": "1780ed63",
   "metadata": {},
   "outputs": [
    {
     "name": "stdout",
     "output_type": "stream",
     "text": [
      "10\n"
     ]
    }
   ],
   "source": [
    "def even_sum(limit:int):\n",
    "    series = fibonacci(limit)\n",
    "    sum_of_even_terms = 0\n",
    "\n",
    "    for num in series:\n",
    "        if num % 2 == 0:\n",
    "            sum_of_even_terms += num\n",
    "\n",
    "    print(sum_of_even_terms)\n",
    "\n",
    "even_sum(5)"
   ]
  },
  {
   "cell_type": "markdown",
   "id": "6e2a4839",
   "metadata": {},
   "source": [
    "PE_3"
   ]
  },
  {
   "cell_type": "code",
   "execution_count": 7,
   "id": "35055777",
   "metadata": {},
   "outputs": [
    {
     "name": "stdout",
     "output_type": "stream",
     "text": [
      "7\n"
     ]
    }
   ],
   "source": [
    "def is_prime(num:int):\n",
    "    if num < 2:\n",
    "        return False\n",
    "    result = True\n",
    "    index = 2\n",
    "    for index in range(2, num//2+1):\n",
    "        if num % index == 0:\n",
    "            return False\n",
    "    return True\n",
    "\n",
    "def prime_factors(num:int):\n",
    "    prime_factors = []\n",
    "    for index in range (1, num+1):\n",
    "        if num % index == 0:\n",
    "            if is_prime(index):\n",
    "                prime_factors.append(index)\n",
    "    return prime_factors\n",
    "\n",
    "def highest_prime_factor(number:int):\n",
    "    max_prime = 1\n",
    "    factors_list = prime_factors(number)\n",
    "    for index in factors_list:\n",
    "        max_prime = index\n",
    "    return max_prime\n",
    "\n",
    "number = 21\n",
    "print(highest_prime_factor(number))"
   ]
  }
 ],
 "metadata": {
  "kernelspec": {
   "display_name": "Python 3",
   "language": "python",
   "name": "python3"
  },
  "language_info": {
   "codemirror_mode": {
    "name": "ipython",
    "version": 3
   },
   "file_extension": ".py",
   "mimetype": "text/x-python",
   "name": "python",
   "nbconvert_exporter": "python",
   "pygments_lexer": "ipython3",
   "version": "3.13.7"
  }
 },
 "nbformat": 4,
 "nbformat_minor": 5
}
