{
 "cells": [
  {
   "cell_type": "markdown",
   "id": "3c563e7d",
   "metadata": {},
   "source": [
    "Create a dictionary with KEY as Category and VALUE as total amount spent"
   ]
  },
  {
   "cell_type": "markdown",
   "id": "8f48cafe",
   "metadata": {},
   "source": []
  },
  {
   "cell_type": "code",
   "execution_count": 1,
   "id": "f4177f63",
   "metadata": {},
   "outputs": [],
   "source": [
    "expenses_dict = {}"
   ]
  },
  {
   "cell_type": "code",
   "execution_count": null,
   "id": "0fd5015e",
   "metadata": {},
   "outputs": [],
   "source": [
    "category = input('Enter the category')\n",
    "expense = float(input('Enter the expense'))"
   ]
  },
  {
   "cell_type": "code",
   "execution_count": null,
   "id": "c1105e2f",
   "metadata": {},
   "outputs": [
    {
     "ename": "NameError",
     "evalue": "name 'expenses_dict' is not defined",
     "output_type": "error",
     "traceback": [
      "\u001b[31m---------------------------------------------------------------------------\u001b[39m",
      "\u001b[31mNameError\u001b[39m                                 Traceback (most recent call last)",
      "\u001b[36mCell\u001b[39m\u001b[36m \u001b[39m\u001b[32mIn[1]\u001b[39m\u001b[32m, line 2\u001b[39m\n\u001b[32m      1\u001b[39m \u001b[38;5;66;03m# if dictionary has a key\u001b[39;00m\n\u001b[32m----> \u001b[39m\u001b[32m2\u001b[39m \u001b[43mexpenses_dict\u001b[49m.keys()\n",
      "\u001b[31mNameError\u001b[39m: name 'expenses_dict' is not defined"
     ]
    }
   ],
   "source": [
    "# if dictionary has a key\n",
    "expenses_dict.keys()\n"
   ]
  },
  {
   "cell_type": "code",
   "execution_count": null,
   "id": "8acca0e2",
   "metadata": {},
   "outputs": [],
   "source": []
  }
 ],
 "metadata": {
  "kernelspec": {
   "display_name": "Python 3",
   "language": "python",
   "name": "python3"
  },
  "language_info": {
   "codemirror_mode": {
    "name": "ipython",
    "version": 3
   },
   "file_extension": ".py",
   "mimetype": "text/x-python",
   "name": "python",
   "nbconvert_exporter": "python",
   "pygments_lexer": "ipython3",
   "version": "3.13.7"
  }
 },
 "nbformat": 4,
 "nbformat_minor": 5
}
