{
 "cells": [
  {
   "cell_type": "code",
   "execution_count": 1,
   "id": "d276dd11",
   "metadata": {},
   "outputs": [],
   "source": [
    "fav_colours = ('Blue', 'Black', 'Purple')\n",
    "fav_places = [\"Vizag\", \"Mysore\", \"Pune\"]\n",
    "fav_players = [\"Virat\", \"Rohit\", \"ABD\", \"DK\"]"
   ]
  },
  {
   "cell_type": "code",
   "execution_count": 4,
   "id": "060ea95b",
   "metadata": {},
   "outputs": [
    {
     "name": "stdout",
     "output_type": "stream",
     "text": [
      "<class 'tuple'>\n",
      "<class 'list'>\n"
     ]
    }
   ],
   "source": [
    "print(type(fav_colours))  \n",
    "print(type(fav_players))   "
   ]
  },
  {
   "cell_type": "code",
   "execution_count": 22,
   "id": "137ac9a5",
   "metadata": {},
   "outputs": [
    {
     "name": "stdout",
     "output_type": "stream",
     "text": [
      "Virat\n"
     ]
    }
   ],
   "source": [
    "## Accessing a datatype - using index\n",
    "\n",
    "print(fav_players[0])\n"
   ]
  },
  {
   "cell_type": "code",
   "execution_count": 1,
   "id": "3b97da07",
   "metadata": {},
   "outputs": [
    {
     "name": "stdout",
     "output_type": "stream",
     "text": [
      "3,7,"
     ]
    }
   ],
   "source": [
    "# odd numbers in odd places\n",
    "odd_num = [1,3,5,7,9]\n",
    "index = 0\n",
    "length = len(odd_num)\n",
    "while index < length:\n",
    "    if index % 2 != 0:\n",
    "        print(odd_num[index], end=\",\")\n",
    "    index += 1\n",
    "\n",
    "\n",
    "\n"
   ]
  },
  {
   "cell_type": "code",
   "execution_count": 3,
   "id": "8628492e",
   "metadata": {},
   "outputs": [
    {
     "name": "stdout",
     "output_type": "stream",
     "text": [
      "0,4,8,"
     ]
    }
   ],
   "source": [
    "# even numbers in even places\n",
    "even_num = [0,2,4,6,8]\n",
    "index = 0\n",
    "length = len(even_num)\n",
    "while index < length:\n",
    "    if index % 2 == 0:\n",
    "        print(even_num[index], end=\",\")\n",
    "    index += 1\n"
   ]
  },
  {
   "cell_type": "markdown",
   "id": "8836afda",
   "metadata": {},
   "source": [
    "Slicing"
   ]
  },
  {
   "cell_type": "code",
   "execution_count": null,
   "id": "4dd253e2",
   "metadata": {},
   "outputs": [],
   "source": []
  }
 ],
 "metadata": {
  "kernelspec": {
   "display_name": "Python 3",
   "language": "python",
   "name": "python3"
  },
  "language_info": {
   "codemirror_mode": {
    "name": "ipython",
    "version": 3
   },
   "file_extension": ".py",
   "mimetype": "text/x-python",
   "name": "python",
   "nbconvert_exporter": "python",
   "pygments_lexer": "ipython3",
   "version": "3.13.7"
  }
 },
 "nbformat": 4,
 "nbformat_minor": 5
}
